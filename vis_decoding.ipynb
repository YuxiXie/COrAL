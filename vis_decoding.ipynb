{
 "cells": [
  {
   "cell_type": "code",
   "execution_count": 13,
   "metadata": {},
   "outputs": [],
   "source": [
    "from oa_dag.utils import json_load\n",
    "\n",
    "from transformers import AutoTokenizer\n",
    "tokenizer = AutoTokenizer.from_pretrained(\n",
    "    'mistralai/Mistral-7B-v0.3',\n",
    ")\n",
    "my_pad_token_id = tokenizer.encode('_')[-1]"
   ]
  },
  {
   "cell_type": "code",
   "execution_count": 11,
   "metadata": {},
   "outputs": [],
   "source": [
    "DIR = '/share/edc/home/yuxi_xie/oa_dag/checkpoints/oa/metamath-mistral'\n",
    "decoding_tracks = json_load(f'{DIR}/newscheme-mu0.05to0.55-dymin-rmu0.55-insert0.5-e3/decoding_tracks_step_denoise-zero3.json')"
   ]
  },
  {
   "cell_type": "code",
   "execution_count": 12,
   "metadata": {},
   "outputs": [],
   "source": [
    "prompts, outputs = decoding_tracks['prompts'], decoding_tracks['outputs']\n",
    "tracks = decoding_tracks['tracks']"
   ]
  },
  {
   "cell_type": "code",
   "execution_count": 17,
   "metadata": {},
   "outputs": [
    {
     "data": {
      "text/plain": [
       "[1782]"
      ]
     },
     "execution_count": 17,
     "metadata": {},
     "output_type": "execute_result"
    }
   ],
   "source": [
    "tracks[0][0][0]"
   ]
  },
  {
   "cell_type": "code",
   "execution_count": 5,
   "metadata": {},
   "outputs": [
    {
     "name": "stdout",
     "output_type": "stream",
     "text": [
      "Below is an instruction that describes a task. Write a response that appropriately completes the request.\n",
      "\n",
      "### Instruction:\n",
      "The Kennel house keeps 3 German Shepherds and 2 Bulldogs. If a German Shepherd consumes 5 kilograms of dog food and a bulldog consumes 3 kilograms of dog food per day. How many kilograms of dog food will they need in a week?\n",
      "\n",
      "### Response:The number of kilograms of dog consumed per day is 3 x 5 = 15 kilograms.\n",
      "The amount of dog food consumed per day per day is 2 x 3 = 6 kilograms.\n",
      "Therefore, the total amount of dog food consumed in a day is 15 + 6 = 21 kilograms.\n",
      "In a week, there are 7 days, so the total amount of dog food consumed in a week is 21 x 7 = 147 kilograms.\n",
      "#### 147\n",
      "The answer is: 14711\n",
      "ior\n",
      "ior\"]ible\n",
      "ior\"]ible _ away\n",
      "ior\"]ible _ away _{\n",
      "ior\"]ible Du away _skinskin\n",
      "ior\"]ible Du away fict _ _ _ _ str str\n",
      " _ _ _ strЏu away fict{\n",
      " strЏ은ble Du away fict{\n",
      " strЏ은原le Du away fict{\n",
      "skinЏ은原oweru away fict{\n",
      "skinЏ은原ower —away fict{\n",
      "skin strЏ은owerAsAsfict{\n",
      "skinposЏ은 str _ _ _Џ们们{\n",
      "skinpos seeuro strЏ은 _Џ _ _Џ\n",
      "skinpos seeuro strЏ은 _Џ们 _ _ _ _们\n",
      "skinpos seeuro strЏ은ViewЏ们newЏả们 _ _算\n",
      "skinpos seeuro strЏ은ViewЏ们newЏả们 trial versch算レttior\n",
      "skinpos seeuro strЏ은ViewЏ们newЏả们 trial versch算レttior\"]ibleible\n",
      "skinpos seeuro strЏ은ViewЏ们newЏả们 trial versch算レttior\"]ibleEventsнеPCMskinpos\n",
      "skinpos seeuro strЏ은ViewЏ们newЏả们 trial versch算レttior\"]ibleEventsнеPCMskinpos seeuro strЏ按 _ _Џ\n",
      "skinpos seeuro strЏ은ViewЏ们newЏả们 trial versch算レttior\"]ibleEventsisonPCMskinpos seeuro strЏ按ViewЏ은newЏき trial算算tt\n",
      "ior\"]ible Du awaySal _skinpos seeuro strЏ은ViewЏ们newЏả们 trial versch算レttior\"]ible hundredнеPCMskinpos seeuro strЏ按ViewЏ은newЏき trial versch算レtt.$ _原\n",
      "ior\"]ible Du _ _skinskinpos seeuro strЏ은ViewЏ们newЏả们 trial versch算レttior\"]ible hundredнеPCMskinpos seeuro strЏ按ViewЏ은newЏき trial versch算レtt wr label原 _ label\n",
      "ior\"]ible hundred hundred _skinskinpos seeuro strЏ은ViewЏ们newЏả们 trial versch算レttior\"]ible hundred _PCMskinpos seeuro strЏ按ViewЏ은newЏき trial versch算レtt.$ _原 _ label filenameible\n",
      "ior\"]ible hundred Mark Markskinskinpos seeuro strЏ은ViewЏ们newЏả们 trial versch算レttior\"]ible hundred Markskinskinpos seeuro strЏ按ViewЏ은newЏき trial versch算レtt.$ión原 — label filenameible hundred Markskin\n",
      "ior\"]ible hundred Mark _skinskinpos seeuro strЏ은ypЏ们newЏả们 trial versch算レttior\"]ible hundred Markskinskinpos seeuro strЏ按ViewЏ은newЏき trial versch算レtt teleión原 see label filenameible hundred Markskinpos seeuro strЏả\n",
      "ior\"]ible hundred _算skinskinpos seeuro strЏ은ypЏ们newЏả们 trial versch算レttior\"]ible hundred Markskinskinpos seeuro strЏ按ViewЏ은newЏき trial versch算レtt teleión原 — label filenameible hundred Markskinpos seeuro strЏả们ypЏきnewЏ\n",
      "ior\"]ible hundred versch算skinskinpos seeuro strЏ은ViewЏ们newЏả们 trial versch算レttior\"]ible hundred Markskinskinpos seeuro strЏ按ViewЏ은newЏき trial versch算レtt teleión原 — label filenameible hundred Markskinpos seeuro strЏả们ypЏきnewЏ按ả trial versch算レtttt\n",
      "ior\"]ible trial versch算skinskinpos seeuro strЏ은ViewЏ们newЏả们 trial versch算レttior\"]ible hundred Markskinskinpos seeuro strЏ按ViewЏ은newЏき trial versch算レtt teleión原 — label filenameible hundred Markskinpos seeuro strЏả们ypЏきnewЏ按ả trial versch算レtt wr seeoto原\n",
      "ior\"]ible trial versch算skinskinpos seeuro strЏ은ViewЏ们newЏả们 trial versch算レttior\"]ible hundred Markskinskinpos seeuro strЏ按ViewЏ은newЏき trial versch算レtt teleión原 — label filenameible hundred Markskinpos seeuro strЏả们ypЏきnewЏ按ả trial versch算レtt wr seeoto原waysautЏ素 ge ge\n",
      "ior\"]ible trial versch算ibleskinpos seeuro strЏ은ViewЏ们newЏả们 trial versch算レttior filenameible hundred Markskinskinpos seeuro strЏ按ViewЏ은newЏき trial versch算レtt teleión原 — label filenameible hundred Markskinpos seeuro strЏả们ypЏきnewЏ按ả trial versch算レtt wr seeoto原waysautЏ素 ge原 show — label filename\n",
      "ior\"]ible trial versch算ible Mark _sizeuro strЏ은ViewЏ们newЏả们 trial versch算レttior filenameible hundred Markskinpos _ seeuro strЏ按ViewЏ은newЏき trial versch算レtt teleión原 — label filenameible hundred Markskinpos seeuro strЏả们ypЏきnewЏ按ả trial versch算レtt wr seeoto原waysautЏ素 ge原 show — label filenameible hundred Mark _pos\n",
      "ior\"]ible trial versch算ible hundred Marksizeuro strЏ은ViewЏ们newЏả们 trial versch算レttior filenameible hundred Markskin _ see seeuro strЏ按ViewЏ은newЏき trial versch算レtt teleión原 — label filenameible hundred Markskinpos seeuro strЏả们ypЏきnewЏ按ả trial versch算レtt wr seeoto原waysautЏ素 ge原 show — label filenameible hundred Mark _pos seeoto strЏ按按\n",
      "ior\"]ible trial versch算ible hundred Marksizeuro strЏ은ViewЏ们newЏả们 trial versch算レttior filenameible hundred Markskinsizeurosize _ strЏ按ViewЏ은newЏき trial versch算レtt teleión原 — label filenameible hundred Markskinpos seeuro strЏả们ypЏきnewЏ按ả trial versch算レtt wr seeoto原waysautЏ素 ge原 show — label filenameible hundred Markskinpos seeoto strЏ按ảViewЏ素newЏ\n",
      "ior\"]ible trial versch算ible hundred Marksizeuro strЏ은ViewЏ们newЏả们 trial versch算レttior filenameible hundred Markskinsizeurosize _ strЏ按ViewЏ은newЏき trial versch算レtt teleión原 — label filenameible hundred Markskinpos seeuro strЏả们ypЏきnewЏ按ả trial versch算レtt wr seeoto原waysautЏ素 ge原 show — label filenameible hundred Markskinpos seeoto strЏ按ảViewЏ素newЏả平き trial versch算算\n",
      "ior\"]ible trial versch算ible hundred Marksizeuro strЏ은ViewЏ们newЏả们 trial versch算レttior filenameible hundred Markskinsizeurosize _ strЏ按ViewЏ은newЏき trial versch算レtt teleión原 — label filenameible hundred Markskinpos seeuro strЏả们ypЏきnewЏ按ả trial versch算レtt wr seeoto原waysautЏ素 ge原 show — label filenameible hundred Markprivatepos seeoto strЏ按ảViewЏ素newЏả平素 trial versch算レtt driЏảả _tttt _ _ _ _ _ _ _ _</s></s></s> _ _</s>\n",
      "ior\"]ible trial versch算ible hundredskinsizeuro strЏ은ViewЏ们newЏả们 trial versch算レttior filenameible hundred Markskinsizeurosize _ strЏ按ViewЏ은newЏき trial versch算レtt teleión原 — label filenameible hundred Markskinpos seeuro strЏả们ypЏきnewЏ按ả trial versch算レtt wr seeoto原waysautЏ素 ge原 show — label filenameible hundred Markskinpos seeoto strЏ按ảViewЏ素newЏả平素 trial versch算レtt driЏả平素ttiorUrl str误Џảả素素 _ _ảả\n",
      "ior\"]ible trial versch算ible hundredskinsizeuro strЏ은ViewЏ们newЏả们 trial versch算レttior filenameible hundred Markskinsizeurosizeuro strЏ按ViewЏ은newЏき trial versch算レtt teleión原 — label filenameible hundred Markskinpos seeuro strЏả们ypЏきnewЏ按ả trial versch算レtt wr seeoto原waysautЏ素 ge原 show — label filenameible hundred Markskinpos seeoto strЏ按ảViewЏ素newЏả平素 trial versch算レtt driЏả平素ttiorUrl str误Џả平素</s> _ _ảả\n"
     ]
    }
   ],
   "source": [
    "idx = 0\n",
    "print(outputs[idx])\n",
    "for i in range(len(tracks[idx])):\n",
    "    ids, pos = tracks[idx][i]\n",
    "    start_idx, end_idx = min(pos), max(pos)\n",
    "    print(tokenizer.decode([ids[pos.index(x)] if x in pos else my_pad_token_id for x in range(start_idx, end_idx + 1)]))\n",
    "    # print(''.join([tokenizer.decode([decoding_tracks['tracks'][idx][i][0][decoding_tracks['tracks'][idx][i][1].index(x)]]) if x in decoding_tracks['tracks'][idx][i][1] else '_' for x in range(start_idx, end_idx + 1)]))\n",
    "    # print(decoding_tracks['tracks'][idx][i])"
   ]
  }
 ],
 "metadata": {
  "kernelspec": {
   "display_name": "oa-dag",
   "language": "python",
   "name": "python3"
  },
  "language_info": {
   "codemirror_mode": {
    "name": "ipython",
    "version": 3
   },
   "file_extension": ".py",
   "mimetype": "text/x-python",
   "name": "python",
   "nbconvert_exporter": "python",
   "pygments_lexer": "ipython3",
   "version": "3.11.9"
  }
 },
 "nbformat": 4,
 "nbformat_minor": 2
}
